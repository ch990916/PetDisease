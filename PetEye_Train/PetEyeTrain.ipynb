{
  "nbformat": 4,
  "nbformat_minor": 0,
  "metadata": {
    "colab": {
      "provenance": []
    },
    "kernelspec": {
      "name": "python3",
      "display_name": "Python 3"
    },
    "language_info": {
      "name": "python"
    }
  },
  "cells": [
    {
      "cell_type": "code",
      "execution_count": null,
      "metadata": {
        "colab": {
          "base_uri": "https://localhost:8080/"
        },
        "id": "ldI6RYG40I4n",
        "outputId": "7db011cd-d053-4113-9575-b8cd5327a151"
      },
      "outputs": [
        {
          "output_type": "stream",
          "name": "stdout",
          "text": [
            "Fri Dec 22 00:29:40 2023       \n",
            "+---------------------------------------------------------------------------------------+\n",
            "| NVIDIA-SMI 535.104.05             Driver Version: 535.104.05   CUDA Version: 12.2     |\n",
            "|-----------------------------------------+----------------------+----------------------+\n",
            "| GPU  Name                 Persistence-M | Bus-Id        Disp.A | Volatile Uncorr. ECC |\n",
            "| Fan  Temp   Perf          Pwr:Usage/Cap |         Memory-Usage | GPU-Util  Compute M. |\n",
            "|                                         |                      |               MIG M. |\n",
            "|=========================================+======================+======================|\n",
            "|   0  Tesla T4                       Off | 00000000:00:04.0 Off |                    0 |\n",
            "| N/A   40C    P8               9W /  70W |      0MiB / 15360MiB |      0%      Default |\n",
            "|                                         |                      |                  N/A |\n",
            "+-----------------------------------------+----------------------+----------------------+\n",
            "                                                                                         \n",
            "+---------------------------------------------------------------------------------------+\n",
            "| Processes:                                                                            |\n",
            "|  GPU   GI   CI        PID   Type   Process name                            GPU Memory |\n",
            "|        ID   ID                                                             Usage      |\n",
            "|=======================================================================================|\n",
            "|  No running processes found                                                           |\n",
            "+---------------------------------------------------------------------------------------+\n"
          ]
        }
      ],
      "source": [
        "# 자신이 코랩 gpu 사용중인지 체크하고 진행하자\n",
        "!nvidia-smi"
      ]
    },
    {
      "cell_type": "code",
      "source": [
        "from google.colab import drive\n",
        "drive.mount('/content/drive')"
      ],
      "metadata": {
        "id": "dGpkfot50XYd",
        "colab": {
          "base_uri": "https://localhost:8080/"
        },
        "outputId": "b63873cd-100f-481f-adb7-b348470e8bf2"
      },
      "execution_count": null,
      "outputs": [
        {
          "output_type": "stream",
          "name": "stdout",
          "text": [
            "Mounted at /content/drive\n"
          ]
        }
      ]
    },
    {
      "cell_type": "code",
      "source": [
        "# 이미지 파일들의 이름을 저장\n",
        "from glob import glob # 폴더 파일명을 관리하는 패키지\n",
        "import json # json 파일에서 정보 추출용 패키지\n",
        "from PIL import Image\n",
        "import os\n",
        "import json\n",
        "import shutil\n",
        "import random\n",
        "random.seed(1) # 랜덤의 시드 고정"
      ],
      "metadata": {
        "id": "oSRl55XuF-vN"
      },
      "execution_count": null,
      "outputs": []
    },
    {
      "cell_type": "code",
      "source": [
        "# 이미지들을  416x416으로 resize 하기\n",
        "from PIL import Image\n",
        "def resize_and_delete_original(folder_path, target_size=(416, 416)):\n",
        "    for filename in os.listdir(folder_path):\n",
        "        if filename.endswith(('.png', '.jpg', '.jpeg')):\n",
        "            # 이미지 파일 경로\n",
        "            image_path = os.path.join(folder_path, filename)\n",
        "            # 이미지 열기\n",
        "            with Image.open(image_path) as img:\n",
        "                # 이미지 resize\n",
        "                resized_img = img.resize(target_size, Image.LANCZOS)\n",
        "                # 리사이즈된 이미지 저장 (원본 이미지를 덮어쓰기)\n",
        "                resized_img.save(image_path)\n",
        "\n",
        "# yolo의 경우에는 32의 배수의 이미지 사이즈를 처리 할 수 있으니 이미지파일들의 리사이징을 통한 크기 통일이 필요하다.\n",
        "# 라벨링 이미지들이 400*400으로 통일 되어 있으니 최소한의 사이즈 변경을 위해 416*416을 default로 지정한다.\n",
        "def resize_and_copy_images(img_path, output_folder, target_size=(416, 416)):\n",
        "    new_image_path = os.path.join(output_folder, os.path.basename(img_path))\n",
        "    # 이미지 열기\n",
        "    with Image.open(img_path) as img:\n",
        "        # 이미지 resize\n",
        "        resized_img = img.resize(target_size, Image.LANCZOS)\n",
        "        # 리사이즈된 이미지 저장\n",
        "        resized_img.save(new_image_path)"
      ],
      "metadata": {
        "id": "Mm9JBO-w0aba"
      },
      "execution_count": null,
      "outputs": []
    },
    {
      "cell_type": "code",
      "source": [
        "def convert_to_yolo_format_dog_BigSmall(json_data):\n",
        "    yolo_format_data = []\n",
        "\n",
        "    # 질병마다 1개씩 모델 만들때는 class가 0-2, 0-3 은 안돼고 0-1 방식이여야 한다\n",
        "    label_mapping = {\n",
        "        \"결막염\": {\"대분류\": 0, \"소분류\": {\"무\": 0, \"유\": 1}},\n",
        "        \"궤양성각막질환\": {\"대분류\": 1, \"소분류\": {\"무\": 0, \"상\": 1, \"하\": 1}},\n",
        "        \"백내장\": {\"대분류\": 2, \"소분류\": {\"무\": 0, \"비성숙\": 1, \"성숙\": 1, \"초기\": 1}},\n",
        "        \"비궤양성각막질환\": {\"대분류\": 3, \"소분류\": {\"무\": 0, \"상\": 1, \"하\": 1}},\n",
        "        \"색소침착성각막염\": {\"대분류\": 4, \"소분류\": {\"무\": 0, \"유\": 1}},\n",
        "        \"안검내반증\": {\"대분류\": 5, \"소분류\": {\"무\": 0, \"유\": 1}},\n",
        "        \"안검염\": {\"대분류\": 6, \"소분류\": {\"무\": 0, \"유\": 1}},\n",
        "        \"안검종양\": {\"대분류\": 7, \"소분류\": {\"무\": 0, \"유\": 1}},\n",
        "        \"유루증\": {\"대분류\": 8, \"소분류\": {\"무\": 0, \"유\": 1}},\n",
        "        \"핵경화\": {\"대분류\": 9, \"소분류\": {\"무\": 0, \"유\": 1}},\n",
        "    }\n",
        "    image_info = json_data[\"images\"][\"meta\"]\n",
        "    image_width, image_height = image_info[\"width_height\"]\n",
        "\n",
        "    label_info = json_data[\"label\"]\n",
        "    label_filename = label_info[\"label_filename\"]\n",
        "    label_category_id = label_info[\"label_category_id\"]\n",
        "    label_bbox = label_info[\"label_bbox\"]\n",
        "\n",
        "    class_info = label_mapping.get(label_info[\"label_disease_nm\"])\n",
        "    if class_info:\n",
        "        label_bbox = [float(coord) for coord in label_bbox]\n",
        "        image_width = float(image_width)\n",
        "        image_height = float(image_height)\n",
        "        x_center = ((label_bbox[0] + label_bbox[2]) / (2 * image_width))\n",
        "        y_center = ((label_bbox[1] + label_bbox[3]) / (2 * image_height))\n",
        "        width = ((label_bbox[2] - label_bbox[0]) / image_width)\n",
        "        height = ((label_bbox[3] - label_bbox[1]) / image_height)\n",
        "        # 라벨링 박스 데이터가 이미지 크기보다 크거나 작은 경우 대처\n",
        "        if width < 0:\n",
        "          width = 0\n",
        "        if height < 0:\n",
        "          height = 0\n",
        "        if width > 1:\n",
        "          width = 1\n",
        "        if height > 1:\n",
        "          height = 1\n",
        "        # 0 ~ 1 사이의 값을 가져야 하지만 -0.00043~~ , 1.000076~~ 등 근소하게 범위를 넘어서므로 0, 1로 값을 대체한다.\n",
        "        # 만약 대체하지 않으면 yolo 모델 학습 이전에 데이터를 로드 및 확인하는 과정에서\n",
        "        # 부적절한 범위의 데이터들이 버려지며 학습 시작까지의 시간이 좀 더 소요된다.\n",
        "\n",
        "        sub_class_label = class_info[\"소분류\"].get(label_info[\"label_disease_lv_3\"])\n",
        "        yolo_format_data.append(f\"{sub_class_label} {x_center} {y_center} {width} {height}\")\n",
        "    return yolo_format_data\n",
        "\n",
        "def save_yolo_format_to_txt_dog_BigSmall(input_folder, output_folder):\n",
        "    # JSON 파일 읽기\n",
        "    with open(input_folder, \"r\", encoding='utf-8') as json_file:\n",
        "        json_data = json.load(json_file)\n",
        "    # YOLO 형식으로 변환\n",
        "    yolo_data = convert_to_yolo_format_dog_BigSmall(json_data)\n",
        "    # YOLO 형식의 텍스트 파일 생성\n",
        "    txt_label_path = os.path.join(output_folder, os.path.splitext(os.path.basename(input_folder))[0] + \".txt\")\n",
        "    with open(txt_label_path, \"w\") as txt_label_file:\n",
        "        txt_label_file.write(\"\".join(yolo_data[0]))\n",
        "\n",
        "def json_to_txt_And_copy_images_Dog(input_folder, output_folder_label, output_folder_images):\n",
        "    for filename in os.listdir(input_folder):\n",
        "      if filename.endswith(\".json\"):\n",
        "        json_path = os.path.join(input_folder, filename)\n",
        "        save_yolo_format_to_txt_dog_BigSmall(json_path, output_folder_label)\n",
        "      if filename.endswith((\".jpg\",\".png\")):\n",
        "        img_path = os.path.join(input_folder, filename)\n",
        "        resize_and_copy_images(img_path, output_folder_images, target_size=(416, 416))\n"
      ],
      "metadata": {
        "id": "hOMoLcuQ0iaV"
      },
      "execution_count": null,
      "outputs": []
    },
    {
      "cell_type": "code",
      "source": [
        "def split_data(input_folder, test_folder, ratio=0.875):\n",
        "    # 입력 폴더 내 모든 파일 목록을 가져옵니다.\n",
        "    all_files = os.listdir(input_folder)\n",
        "    random.shuffle(all_files)  # 목록을 무작위로 섞습니다.\n",
        "\n",
        "    # 주어진 비율을 기반으로 훈련 및 테스트에 사용될 파일 수를 계산합니다.\n",
        "    num_train = int(len(all_files) * ratio)\n",
        "    num_test = len(all_files) - num_train\n",
        "\n",
        "    # 파일을 훈련 및 테스트 세트로 나눕니다.\n",
        "    test_files = all_files[num_train:]\n",
        "\n",
        "    # test용 파일을 출력 폴더로 이동합니다.\n",
        "    for file_name in test_files:\n",
        "        source_path = os.path.join(input_folder, file_name)\n",
        "        dest_path = os.path.join(test_folder, file_name)\n",
        "        shutil.move(source_path, dest_path)\n"
      ],
      "metadata": {
        "id": "JWEyqtu03yRs"
      },
      "execution_count": null,
      "outputs": []
    },
    {
      "cell_type": "code",
      "source": [
        "# unzip 및 폴더명 변경 이후에 각 질병의 폴더명들이다.\n",
        "# 모든 데이터를 한번에 학습시키기 위한 폴더로 전처리 및 이동시에는 바로 실행시키고 넘어가고, (시간은 오래 걸릴 것이다.)\n",
        "# 원하는 1개의 질병의 데이터만 옮길 경우에는 주석으로 달아 놓은 숫자를 잘 보기 바란다.\n",
        "dog_list_train_vm_2 = [ # 개 질병 10종 모든 폴더\n",
        "        '/content/dog/eye/normal/0/mu', # 0 - 결막염 # 0\n",
        "        '/content/dog/eye/normal/0/yu', # 1\n",
        "        '/content/dog/eye/normal/1/ha', # 2\n",
        "        '/content/dog/eye/normal/1/mu', # 1 - 궤양성각막질환 # 3\n",
        "        '/content/dog/eye/normal/1/san', # 4\n",
        "        '/content/dog/eye/normal/2/beSeungSuk', # 5\n",
        "        '/content/dog/eye/normal/2/choGi', # 6\n",
        "        '/content/dog/eye/normal/2/mu', # 2 - 백내장 # 7\n",
        "        '/content/dog/eye/normal/2/seungSuk', # 8\n",
        "        '/content/dog/eye/normal/3/ha', # 9\n",
        "        '/content/dog/eye/normal/3/mu', # 3 - 비궤양성각막질환 # 10\n",
        "        '/content/dog/eye/normal/3/san', # 11\n",
        "        '/content/dog/eye/normal/4/mu', # 4 - 색소침착성각막염 # 12\n",
        "        '/content/dog/eye/normal/4/yu', # 13\n",
        "        '/content/dog/eye/normal/5/mu', # 5 - 안검내반증 # 14\n",
        "        '/content/dog/eye/normal/5/yu', # 15\n",
        "        '/content/dog/eye/normal/6/mu', # 6 - 안검염 # 16\n",
        "        '/content/dog/eye/normal/6/yu', # 17\n",
        "        '/content/dog/eye/normal/7/mu', # 7 - 안검종양 # 18\n",
        "        '/content/dog/eye/normal/7/yu', # 19\n",
        "        '/content/dog/eye/normal/8/mu', # 8 - 유루증 # 20\n",
        "        '/content/dog/eye/normal/8/yu', # 21\n",
        "        '/content/dog/eye/normal/9/mu', # 9 - 핵경화 # 22\n",
        "        '/content/dog/eye/normal/9/yu', # 23\n",
        "]\n",
        "\n",
        "dog_list_valid_vm_2 = [ # 개 질병 10종 모든 폴더\n",
        "        '/content/val/dog/eye/normal/0/mu', # 0 - 결막염\n",
        "        '/content/val/dog/eye/normal/0/yu',\n",
        "        '/content/val/dog/eye/normal/1/ha',\n",
        "        '/content/val/dog/eye/normal/1/mu', # 1 - 궤양성각막질환\n",
        "        '/content/val/dog/eye/normal/1/san',\n",
        "        '/content/val/dog/eye/normal/2/beSeungSuk',\n",
        "        '/content/val/dog/eye/normal/2/choGi',\n",
        "        '/content/val/dog/eye/normal/2/mu', # 2 - 백내장\n",
        "        '/content/val/dog/eye/normal/2/seungSuk',\n",
        "        '/content/val/dog/eye/normal/3/ha',\n",
        "        '/content/val/dog/eye/normal/3/mu', # 3 - 비궤양성각막질환\n",
        "        '/content/val/dog/eye/normal/3/san',\n",
        "        '/content/val/dog/eye/normal/4/mu', # 4 - 색소침착성각막염\n",
        "        '/content/val/dog/eye/normal/4/yu',\n",
        "        '/content/val/dog/eye/normal/5/mu', # 5 - 안검내반증\n",
        "        '/content/val/dog/eye/normal/5/yu',\n",
        "        '/content/val/dog/eye/normal/6/mu', # 6 - 안검염\n",
        "        '/content/val/dog/eye/normal/6/yu',\n",
        "        '/content/val/dog/eye/normal/7/mu', # 7 - 안검종양\n",
        "        '/content/val/dog/eye/normal/7/yu',\n",
        "        '/content/val/dog/eye/normal/8/mu', # 8 - 유루증\n",
        "        '/content/val/dog/eye/normal/8/yu',\n",
        "        '/content/val/dog/eye/normal/9/mu', # 9 - 핵경화\n",
        "        '/content/val/dog/eye/normal/9/yu',\n",
        "]"
      ],
      "metadata": {
        "id": "DFvRbqH30T3M"
      },
      "execution_count": null,
      "outputs": []
    },
    {
      "cell_type": "code",
      "source": [
        "!unzip -qq \"/content/drive/MyDrive/PetData_Eye/1.Training/labelingdata/TL1/TL1.zip\" # 구글 드라이브에 zip 파일을 저장한 path는 각자 확인해야한다.\n",
        "!unzip -qq \"/content/drive/MyDrive/PetData_Eye/1.Training/labelingdata/TL2/TL2.zip\" # 구글 드라이브에 zip 파일을 저장한 path는 각자 확인해야한다.\n",
        "os.makedirs('/content/val', exist_ok=True)\n",
        "!unzip -qq /content/drive/MyDrive/PetData_Eye/2.Validation/labelingdata/VL/VL.zip -d /content/val # 구글 드라이브에 zip 파일을 저장한 path는 각자 확인해야한다.\n",
        "print(\"job done_\" + \"unzip\")"
      ],
      "metadata": {
        "colab": {
          "base_uri": "https://localhost:8080/"
        },
        "id": "Vigv5KN53nYH",
        "outputId": "6cff9f35-181e-417f-9772-4ade937f581a"
      },
      "execution_count": null,
      "outputs": [
        {
          "output_type": "stream",
          "name": "stdout",
          "text": [
            "job done_unzip\n"
          ]
        }
      ]
    },
    {
      "cell_type": "code",
      "source": [
        "# unzip 한 파일의 경로에 한글이 섞여있으니 영어와 숫자로 변경\n",
        "# 개관련 데이터만 경로를 영어로 바꾼다\n",
        "os.rename('/content/개', '/content/dog')\n",
        "os.rename('/content/dog/안구', '/content/dog/eye')\n",
        "os.rename('/content/dog/eye/일반', '/content/dog/eye/normal')\n",
        "normal = '/content/dog/eye/normal'\n",
        "for folder in os.listdir(normal):\n",
        "  if folder == \"결막염\":\n",
        "    os.rename(normal+'/'+folder, normal+'/'+\"0\")\n",
        "  if folder == \"궤양성각막질환\":\n",
        "    os.rename(normal+'/'+folder, normal+'/'+\"1\")\n",
        "  if folder == \"백내장\":\n",
        "    os.rename(normal+'/'+folder, normal+'/'+\"2\")\n",
        "  if folder == \"비궤양성각막질환\":\n",
        "    os.rename(normal+'/'+folder, normal+'/'+\"3\")\n",
        "  if folder == \"색소침착성각막염\":\n",
        "    os.rename(normal+'/'+folder, normal+'/'+\"4\")\n",
        "  if folder == \"안검내반증\":\n",
        "    os.rename(normal+'/'+folder, normal+'/'+\"5\")\n",
        "  if folder == \"안검염\":\n",
        "    os.rename(normal+'/'+folder, normal+'/'+\"6\")\n",
        "  if folder == \"안검종양\":\n",
        "    os.rename(normal+'/'+folder, normal+'/'+\"7\")\n",
        "  if folder == \"유루증\":\n",
        "    os.rename(normal+'/'+folder, normal+'/'+\"8\")\n",
        "  if folder == \"핵경화\":\n",
        "    os.rename(normal+'/'+folder, normal+'/'+\"9\")\n",
        "\n",
        "# 무 -> mu\n",
        "for folder in os.listdir(normal):\n",
        "  for state in os.listdir(normal+'/'+folder):\n",
        "    src = os.path.join(normal+'/'+folder, state) # 기존 파일 경로\n",
        "    if state == '무':\n",
        "      dst = os.path.join(normal+'/'+folder+'/', \"mu\") # 바뀐 이름으로 저장할 경로\n",
        "    if state == '유':\n",
        "      dst = os.path.join(normal+'/'+folder+'/', \"yu\")\n",
        "    if state == '상':\n",
        "      dst = os.path.join(normal+'/'+folder+'/', \"san\")\n",
        "    if state == '하':\n",
        "      dst = os.path.join(normal+'/'+folder+'/', \"ha\")\n",
        "    if state == '초기':\n",
        "      dst = os.path.join(normal+'/'+folder+'/', \"choGi\")\n",
        "    if state == '성숙':\n",
        "      dst = os.path.join(normal+'/'+folder+'/', \"seungSuk\")\n",
        "    if state == '비성숙':\n",
        "      dst = os.path.join(normal+'/'+folder+'/', \"beSeungSuk\")\n",
        "    os.rename(src, dst)\n",
        "\n",
        "####################### val\n",
        "os.rename('/content/val/개', '/content/val/dog')\n",
        "os.rename('/content/val/dog/안구', '/content/val/dog/eye')\n",
        "os.rename('/content/val/dog/eye/일반', '/content/val/dog/eye/normal')\n",
        "normal = '/content/val/dog/eye/normal'\n",
        "## 병명 -> 0,1,2,3...\n",
        "\n",
        "for folder in os.listdir(normal):\n",
        "  if folder == \"결막염\":\n",
        "    os.rename(normal+'/'+folder, normal+'/'+\"0\")\n",
        "  if folder == \"궤양성각막질환\":\n",
        "    os.rename(normal+'/'+folder, normal+'/'+\"1\")\n",
        "  if folder == \"백내장\":\n",
        "    os.rename(normal+'/'+folder, normal+'/'+\"2\")\n",
        "  if folder == \"비궤양성각막질환\":\n",
        "    os.rename(normal+'/'+folder, normal+'/'+\"3\")\n",
        "  if folder == \"색소침착성각막염\":\n",
        "    os.rename(normal+'/'+folder, normal+'/'+\"4\")\n",
        "  if folder == \"안검내반증\":\n",
        "    os.rename(normal+'/'+folder, normal+'/'+\"5\")\n",
        "  if folder == \"안검염\":\n",
        "    os.rename(normal+'/'+folder, normal+'/'+\"6\")\n",
        "  if folder == \"안검종양\":\n",
        "    os.rename(normal+'/'+folder, normal+'/'+\"7\")\n",
        "  if folder == \"유루증\":\n",
        "    os.rename(normal+'/'+folder, normal+'/'+\"8\")\n",
        "  if folder == \"핵경화\":\n",
        "    os.rename(normal+'/'+folder, normal+'/'+\"9\")\n",
        "\n",
        "# 무 -> mu\n",
        "for folder in os.listdir(normal):\n",
        "  for state in os.listdir(normal+'/'+folder):\n",
        "    src = os.path.join(normal+'/'+folder, state) # 기존 파일 경로\n",
        "    if state == '무':\n",
        "      dst = os.path.join(normal+'/'+folder+'/', \"mu\") # 바뀐 이름으로 저장할 경로\n",
        "    if state == '유':\n",
        "      dst = os.path.join(normal+'/'+folder+'/', \"yu\")\n",
        "    if state == '상':\n",
        "      dst = os.path.join(normal+'/'+folder+'/', \"san\")\n",
        "    if state == '하':\n",
        "      dst = os.path.join(normal+'/'+folder+'/', \"ha\")\n",
        "    if state == '초기':\n",
        "      dst = os.path.join(normal+'/'+folder+'/', \"choGi\")\n",
        "    if state == '성숙':\n",
        "      dst = os.path.join(normal+'/'+folder+'/', \"seungSuk\")\n",
        "    if state == '비성숙':\n",
        "      dst = os.path.join(normal+'/'+folder+'/', \"beSeungSuk\")\n",
        "    os.rename(src, dst)\n"
      ],
      "metadata": {
        "id": "K8J_1u_C31hz"
      },
      "execution_count": null,
      "outputs": []
    },
    {
      "cell_type": "code",
      "source": [
        "# colab vm 로 돌릴때용 폴더 세팅\n",
        "# 입력 폴더 및 출력 폴더 설정\n",
        "input_folder = '/content/dog/'\n",
        "driver_root = '/content/Relabel_Dog/'\n",
        "for i in range(0,10):\n",
        "  test_folder_images = driver_root + str(i) + '/test/images'\n",
        "  test_folder_labels = driver_root + str(i) + '/test/labels'\n",
        "  os.makedirs(test_folder_labels, exist_ok=True)\n",
        "  os.makedirs(test_folder_images, exist_ok=True)\n",
        "  train_folder_images = driver_root + str(i) + '/train/images'\n",
        "  train_folder_labels = driver_root + str(i) + '/train/labels'\n",
        "  os.makedirs(train_folder_labels, exist_ok=True)\n",
        "  os.makedirs(train_folder_images, exist_ok=True)\n",
        "  valid_folder_images = driver_root + str(i) + '/val/images'\n",
        "  valid_folder_labels = driver_root + str(i) + '/val/labels'\n",
        "  os.makedirs(valid_folder_labels, exist_ok=True)\n",
        "  os.makedirs(valid_folder_images, exist_ok=True)\n"
      ],
      "metadata": {
        "id": "6Zizi7of3n4N"
      },
      "execution_count": null,
      "outputs": []
    },
    {
      "cell_type": "code",
      "source": [
        "# # train 폴더에 모두 옮기기\n",
        "# for input_dog in dog_list_train_vm_2:\n",
        "#   i = input_dog.split('/')[-2]\n",
        "#   output_folder_label = driver_root + str(i) +'/train/labels'\n",
        "#   output_folder_images = driver_root + str(i) + '/train/images'\n",
        "#   print(\"job start_\" + str(i))\n",
        "#   json_to_txt_And_copy_images_Dog(input_dog, output_folder_label, output_folder_images)\n",
        "#   #### json_to_yoloLabelTxt_dog_BigSmall(input_dog, output_folder_label)\n",
        "#   print(\"job done_\" + str(i))\n",
        "\n",
        "# 위의 코드를 사용하면, 모든 질병의 데이터를 한번에 처리하면 오래 걸리므로\n",
        "# 각 질병의 무/유 폴더의 파일을 옮길땐 아래의 코드를 사용\n",
        "####################################\n",
        "input_dog = dog_list_train_vm_2[22]\n",
        "i = input_dog.split('/')[-2]\n",
        "output_folder_label = driver_root + str(i) +'/train/labels'\n",
        "output_folder_images = driver_root + str(i) + '/train/images'\n",
        "json_to_txt_And_copy_images_Dog(input_dog, output_folder_label, output_folder_images)\n",
        "print(\"job_done\" + input_dog)\n",
        "####################################\n",
        "input_dog = dog_list_train_vm_2[23]\n",
        "i = input_dog.split('/')[-2]\n",
        "output_folder_label = driver_root + str(i) +'/train/labels'\n",
        "output_folder_images = driver_root + str(i) + '/train/images'\n",
        "json_to_txt_And_copy_images_Dog(input_dog, output_folder_label, output_folder_images)\n",
        "print(\"job_done\" + input_dog)\n"
      ],
      "metadata": {
        "colab": {
          "base_uri": "https://localhost:8080/"
        },
        "id": "1TNyPCOA8V99",
        "outputId": "a23490e0-d89e-4aad-f7b0-f09612986cbb"
      },
      "execution_count": null,
      "outputs": [
        {
          "output_type": "stream",
          "name": "stdout",
          "text": [
            "job_done/content/dog/eye/normal/9/mu\n",
            "job_done/content/dog/eye/normal/9/yu\n"
          ]
        }
      ]
    },
    {
      "cell_type": "code",
      "source": [
        "# val 폴더에 모두 옮기기\n",
        "# for input_dog in dog_list_valid_vm_2:\n",
        "#   i = input_dog.split('/')[-2]\n",
        "#   output_folder_label = driver_root + i + '/val/labels'\n",
        "#   output_folder_images = driver_root + i + '/val/images'\n",
        "#   print(\"job start_\" + str(i))\n",
        "#   json_to_txt_And_copy_images_Dog(input_dog, output_folder_label, output_folder_images)\n",
        "#   #### json_to_yoloLabelTxt_dog_BigSmall(input_dog, output_folder_label)\n",
        "#   print(\"job done_\" + str(i))\n",
        "###############\n",
        "input_dog = dog_list_valid_vm_2[22]\n",
        "i = input_dog.split('/')[-2]\n",
        "output_folder_label = driver_root + str(i) +'/val/labels'\n",
        "output_folder_images = driver_root + str(i) + '/val/images'\n",
        "json_to_txt_And_copy_images_Dog(input_dog, output_folder_label, output_folder_images)\n",
        "print(\"job_done\" + input_dog)\n",
        "###########\n",
        "input_dog = dog_list_valid_vm_2[23]\n",
        "output_folder_label = driver_root + str(i) +'/val/labels'\n",
        "output_folder_images = driver_root + str(i) + '/val/images'\n",
        "json_to_txt_And_copy_images_Dog(input_dog, output_folder_label, output_folder_images)\n",
        "print(\"job_done\" + input_dog)"
      ],
      "metadata": {
        "colab": {
          "base_uri": "https://localhost:8080/"
        },
        "id": "4n8doaXv8WQ2",
        "outputId": "2c657c1a-9df7-409f-99c1-61db9c7c609d"
      },
      "execution_count": null,
      "outputs": [
        {
          "output_type": "stream",
          "name": "stdout",
          "text": [
            "job_done/content/val/dog/eye/normal/9/mu\n",
            "job_done/content/val/dog/eye/normal/9/yu\n"
          ]
        }
      ]
    },
    {
      "cell_type": "code",
      "source": [
        "# train:test:val = 8 : 0 : 1 비율이다.\n",
        "# train:test =  7:1 로 split하고 옮기기\n",
        "# for i in range(0,10):\n",
        "#   before_split_folder = \"/content/Relabel_Dog/\" + str(i) + \"train/images\"\n",
        "#   after_split = \"/content/Relabel_Dog/\" + str(i) + \"/test/images\"\n",
        "#   split_data(before_split_folder, after_split, ratio=0.875)\n",
        "#   print(\"job done_images\" + str(i))\n",
        "#   before_split_folder = \"/content/Relabel_Dog/\" + str(i) + \"/train/labels\"\n",
        "#   after_split = \"/content/Relabel_Dog/\" + str(i) + \"/test/labels\"\n",
        "#   split_data(before_split_folder, after_split, ratio=0.875)\n",
        "#   print(\"job done_labels\" + str(i))\n",
        "\n",
        "############################\n",
        "before_split_folder = \"/content/Relabel_Dog/\" + str(i) + \"/train/images\"\n",
        "after_split = \"/content/Relabel_Dog/\"+ str(i) + \"/test/images\"\n",
        "split_data(before_split_folder, after_split, ratio=0.875)\n",
        "print(\"job done_images\")\n",
        "before_split_folder = \"/content/Relabel_Dog/\" + str(i) + \"/train/labels\"\n",
        "after_split = \"/content/Relabel_Dog/\" + str(i) + \"/test/labels\"\n",
        "split_data(before_split_folder, after_split, ratio=0.875)\n",
        "print(\"job done_labels\")"
      ],
      "metadata": {
        "colab": {
          "base_uri": "https://localhost:8080/"
        },
        "id": "5BoIsianDOve",
        "outputId": "1705eb8a-b2a4-49ae-a105-48c2f7ae5a11"
      },
      "execution_count": null,
      "outputs": [
        {
          "output_type": "stream",
          "name": "stdout",
          "text": [
            "job done_images\n",
            "job done_labels\n"
          ]
        }
      ]
    },
    {
      "cell_type": "code",
      "source": [
        "###############################################"
      ],
      "metadata": {
        "id": "oz34qv65i1_A"
      },
      "execution_count": null,
      "outputs": []
    },
    {
      "cell_type": "code",
      "source": [
        "# 가끔씩 utf-8에서 다른 걸로 바뀔수가 있는데 그러면 일부 패키지등이 설치가 안된다\n",
        "# 아래의 코드를 실행하면 다시 utf-8로 인코딩 방식을 지정\n",
        "import locale\n",
        "print(locale.getpreferredencoding())\n",
        "def getpreferredencoding(do_setlocale = True):\n",
        "  return \"UTF-8\"\n",
        "locale.getpreferredencoding = getpreferredencoding\n",
        "print(locale.getpreferredencoding())"
      ],
      "metadata": {
        "colab": {
          "base_uri": "https://localhost:8080/"
        },
        "id": "vj8vuwZ-Y1sa",
        "outputId": "3c649d08-cc48-46a0-db2c-29fcd3bb9647"
      },
      "execution_count": null,
      "outputs": [
        {
          "output_type": "stream",
          "name": "stdout",
          "text": [
            "UTF-8\n",
            "UTF-8\n"
          ]
        }
      ]
    },
    {
      "cell_type": "code",
      "source": [
        "# YOLOv8을 사용하기 위한 패키지를 설치\n",
        "!pip install ultralytics"
      ],
      "metadata": {
        "id": "tel9XQVX6l8V",
        "colab": {
          "base_uri": "https://localhost:8080/"
        },
        "outputId": "d185d99e-7d67-45f6-f649-0b38fd45786a"
      },
      "execution_count": null,
      "outputs": [
        {
          "output_type": "stream",
          "name": "stdout",
          "text": [
            "Collecting ultralytics\n",
            "  Downloading ultralytics-8.0.228-py3-none-any.whl (661 kB)\n",
            "\u001b[2K     \u001b[90m━━━━━━━━━━━━━━━━━━━━━━━━━━━━━━━━━━━━━━━━\u001b[0m \u001b[32m661.2/661.2 kB\u001b[0m \u001b[31m8.1 MB/s\u001b[0m eta \u001b[36m0:00:00\u001b[0m\n",
            "\u001b[?25hRequirement already satisfied: matplotlib>=3.3.0 in /usr/local/lib/python3.10/dist-packages (from ultralytics) (3.7.1)\n",
            "Requirement already satisfied: numpy>=1.22.2 in /usr/local/lib/python3.10/dist-packages (from ultralytics) (1.23.5)\n",
            "Requirement already satisfied: opencv-python>=4.6.0 in /usr/local/lib/python3.10/dist-packages (from ultralytics) (4.8.0.76)\n",
            "Requirement already satisfied: pillow>=7.1.2 in /usr/local/lib/python3.10/dist-packages (from ultralytics) (9.4.0)\n",
            "Requirement already satisfied: pyyaml>=5.3.1 in /usr/local/lib/python3.10/dist-packages (from ultralytics) (6.0.1)\n",
            "Requirement already satisfied: requests>=2.23.0 in /usr/local/lib/python3.10/dist-packages (from ultralytics) (2.31.0)\n",
            "Requirement already satisfied: scipy>=1.4.1 in /usr/local/lib/python3.10/dist-packages (from ultralytics) (1.11.4)\n",
            "Requirement already satisfied: torch>=1.8.0 in /usr/local/lib/python3.10/dist-packages (from ultralytics) (2.1.0+cu121)\n",
            "Requirement already satisfied: torchvision>=0.9.0 in /usr/local/lib/python3.10/dist-packages (from ultralytics) (0.16.0+cu121)\n",
            "Requirement already satisfied: tqdm>=4.64.0 in /usr/local/lib/python3.10/dist-packages (from ultralytics) (4.66.1)\n",
            "Requirement already satisfied: pandas>=1.1.4 in /usr/local/lib/python3.10/dist-packages (from ultralytics) (1.5.3)\n",
            "Requirement already satisfied: seaborn>=0.11.0 in /usr/local/lib/python3.10/dist-packages (from ultralytics) (0.12.2)\n",
            "Requirement already satisfied: psutil in /usr/local/lib/python3.10/dist-packages (from ultralytics) (5.9.5)\n",
            "Requirement already satisfied: py-cpuinfo in /usr/local/lib/python3.10/dist-packages (from ultralytics) (9.0.0)\n",
            "Collecting thop>=0.1.1 (from ultralytics)\n",
            "  Downloading thop-0.1.1.post2209072238-py3-none-any.whl (15 kB)\n",
            "Requirement already satisfied: contourpy>=1.0.1 in /usr/local/lib/python3.10/dist-packages (from matplotlib>=3.3.0->ultralytics) (1.2.0)\n",
            "Requirement already satisfied: cycler>=0.10 in /usr/local/lib/python3.10/dist-packages (from matplotlib>=3.3.0->ultralytics) (0.12.1)\n",
            "Requirement already satisfied: fonttools>=4.22.0 in /usr/local/lib/python3.10/dist-packages (from matplotlib>=3.3.0->ultralytics) (4.46.0)\n",
            "Requirement already satisfied: kiwisolver>=1.0.1 in /usr/local/lib/python3.10/dist-packages (from matplotlib>=3.3.0->ultralytics) (1.4.5)\n",
            "Requirement already satisfied: packaging>=20.0 in /usr/local/lib/python3.10/dist-packages (from matplotlib>=3.3.0->ultralytics) (23.2)\n",
            "Requirement already satisfied: pyparsing>=2.3.1 in /usr/local/lib/python3.10/dist-packages (from matplotlib>=3.3.0->ultralytics) (3.1.1)\n",
            "Requirement already satisfied: python-dateutil>=2.7 in /usr/local/lib/python3.10/dist-packages (from matplotlib>=3.3.0->ultralytics) (2.8.2)\n",
            "Requirement already satisfied: pytz>=2020.1 in /usr/local/lib/python3.10/dist-packages (from pandas>=1.1.4->ultralytics) (2023.3.post1)\n",
            "Requirement already satisfied: charset-normalizer<4,>=2 in /usr/local/lib/python3.10/dist-packages (from requests>=2.23.0->ultralytics) (3.3.2)\n",
            "Requirement already satisfied: idna<4,>=2.5 in /usr/local/lib/python3.10/dist-packages (from requests>=2.23.0->ultralytics) (3.6)\n",
            "Requirement already satisfied: urllib3<3,>=1.21.1 in /usr/local/lib/python3.10/dist-packages (from requests>=2.23.0->ultralytics) (2.0.7)\n",
            "Requirement already satisfied: certifi>=2017.4.17 in /usr/local/lib/python3.10/dist-packages (from requests>=2.23.0->ultralytics) (2023.11.17)\n",
            "Requirement already satisfied: filelock in /usr/local/lib/python3.10/dist-packages (from torch>=1.8.0->ultralytics) (3.13.1)\n",
            "Requirement already satisfied: typing-extensions in /usr/local/lib/python3.10/dist-packages (from torch>=1.8.0->ultralytics) (4.5.0)\n",
            "Requirement already satisfied: sympy in /usr/local/lib/python3.10/dist-packages (from torch>=1.8.0->ultralytics) (1.12)\n",
            "Requirement already satisfied: networkx in /usr/local/lib/python3.10/dist-packages (from torch>=1.8.0->ultralytics) (3.2.1)\n",
            "Requirement already satisfied: jinja2 in /usr/local/lib/python3.10/dist-packages (from torch>=1.8.0->ultralytics) (3.1.2)\n",
            "Requirement already satisfied: fsspec in /usr/local/lib/python3.10/dist-packages (from torch>=1.8.0->ultralytics) (2023.6.0)\n",
            "Requirement already satisfied: triton==2.1.0 in /usr/local/lib/python3.10/dist-packages (from torch>=1.8.0->ultralytics) (2.1.0)\n",
            "Requirement already satisfied: six>=1.5 in /usr/local/lib/python3.10/dist-packages (from python-dateutil>=2.7->matplotlib>=3.3.0->ultralytics) (1.16.0)\n",
            "Requirement already satisfied: MarkupSafe>=2.0 in /usr/local/lib/python3.10/dist-packages (from jinja2->torch>=1.8.0->ultralytics) (2.1.3)\n",
            "Requirement already satisfied: mpmath>=0.19 in /usr/local/lib/python3.10/dist-packages (from sympy->torch>=1.8.0->ultralytics) (1.3.0)\n",
            "Installing collected packages: thop, ultralytics\n",
            "Successfully installed thop-0.1.1.post2209072238 ultralytics-8.0.228\n"
          ]
        }
      ]
    },
    {
      "cell_type": "code",
      "source": [
        "import ultralytics\n",
        "ultralytics.checks()\n",
        "# 코랩환경인 파이썬 3.10에서 사용하기 위한 torch, cuda 등이 설치된걸 확인 할 수 있다."
      ],
      "metadata": {
        "colab": {
          "base_uri": "https://localhost:8080/"
        },
        "id": "wCDtW-hxRATo",
        "outputId": "28f7ad62-14bb-4e83-bbfc-d2c083e2668f"
      },
      "execution_count": null,
      "outputs": [
        {
          "output_type": "stream",
          "name": "stdout",
          "text": [
            "Ultralytics YOLOv8.0.228 🚀 Python-3.10.12 torch-2.1.0+cu121 CUDA:0 (Tesla T4, 15102MiB)\n",
            "Setup complete ✅ (2 CPUs, 12.7 GB RAM, 54.9/166.8 GB disk)\n"
          ]
        }
      ]
    },
    {
      "cell_type": "code",
      "source": [
        "from ultralytics import YOLO\n",
        "from IPython.display import Image # 전처리용 PIL의 Image랑 이름이 겹치니까 모델 돌리기 이전에만 하자\n",
        "from IPython import display\n",
        "import cv2\n",
        "display.clear_output()\n",
        "!yolo mode=checks"
      ],
      "metadata": {
        "id": "YALX0Hjrk4QS",
        "colab": {
          "base_uri": "https://localhost:8080/"
        },
        "outputId": "f6cec8e0-1f93-4abf-e26a-218803d88076"
      },
      "execution_count": null,
      "outputs": [
        {
          "output_type": "stream",
          "name": "stdout",
          "text": [
            "Traceback (most recent call last):\n",
            "  File \"/usr/local/bin/yolo\", line 8, in <module>\n",
            "    sys.exit(entrypoint())\n",
            "  File \"/usr/local/lib/python3.10/dist-packages/ultralytics/cfg/__init__.py\", line 395, in entrypoint\n",
            "    raise ValueError(f\"Invalid 'mode={mode}'. Valid modes are {MODES}.\\n{CLI_HELP_MSG}\")\n",
            "ValueError: Invalid 'mode=<module 'ultralytics.utils.checks' from '/usr/local/lib/python3.10/dist-packages/ultralytics/utils/checks.py'>'. Valid modes are ('train', 'val', 'predict', 'export', 'track', 'benchmark').\n",
            "\n",
            "    Arguments received: ['yolo', 'mode=checks']. Ultralytics 'yolo' commands use the following syntax:\n",
            "\n",
            "        yolo TASK MODE ARGS\n",
            "\n",
            "        Where   TASK (optional) is one of ('detect', 'segment', 'classify', 'pose')\n",
            "                MODE (required) is one of ('train', 'val', 'predict', 'export', 'track', 'benchmark')\n",
            "                ARGS (optional) are any number of custom 'arg=value' pairs like 'imgsz=320' that override defaults.\n",
            "                    See all ARGS at https://docs.ultralytics.com/usage/cfg or with 'yolo cfg'\n",
            "\n",
            "    1. Train a detection model for 10 epochs with an initial learning_rate of 0.01\n",
            "        yolo train data=coco128.yaml model=yolov8n.pt epochs=10 lr0=0.01\n",
            "\n",
            "    2. Predict a YouTube video using a pretrained segmentation model at image size 320:\n",
            "        yolo predict model=yolov8n-seg.pt source='https://youtu.be/LNwODJXcvt4' imgsz=320\n",
            "\n",
            "    3. Val a pretrained detection model at batch-size 1 and image size 640:\n",
            "        yolo val model=yolov8n.pt data=coco128.yaml batch=1 imgsz=640\n",
            "\n",
            "    4. Export a YOLOv8n classification model to ONNX format at image size 224 by 128 (no TASK required)\n",
            "        yolo export model=yolov8n-cls.pt format=onnx imgsz=224,128\n",
            "\n",
            "    5. Run special commands:\n",
            "        yolo help\n",
            "        yolo checks\n",
            "        yolo version\n",
            "        yolo settings\n",
            "        yolo copy-cfg\n",
            "        yolo cfg\n",
            "\n",
            "    Docs: https://docs.ultralytics.com\n",
            "    Community: https://community.ultralytics.com\n",
            "    GitHub: https://github.com/ultralytics/ultralytics\n",
            "    \n"
          ]
        }
      ]
    },
    {
      "cell_type": "code",
      "source": [
        "model = YOLO(\"yolov8n.pt\") # custom dataset으로 학습할 때는 m,l 같은 모델을 불러와도 처음부터 n으로 시작한다.\n",
        "results_9 = model.train(data='/content/Relabel_Dog/9/data_vm_0_10.yaml', epochs=50, imgsz=416)\n",
        "# 만약 리사이즈 시에 416*416이 아닌 다른 크기로 했다면 imgsz를 해당 크기의 값으로 줘야한다.\n",
        "# yaml 안의 train, test, val의 path는 지금까지의 경로명를 지정 및 수정하는 코드를 그대로 사용했다면 바로 쓸 수 있을 것이다.\n",
        "# /content/Relabel_Dog/9/data_vm_0_10.yaml 에 꼭 넣을 yaml 파일을 넣을 필요는 없으며 /content/data_vm_0_10.yaml에 있어도 정상적으로 사용 가능하다.\n",
        "# results_9 = model.train(data='/content/data_vm_0_10.yaml', epochs=50, imgsz=416)\n",
        "# 만약 코랩의 vm환경에 yaml파일을 업로드 하고 바로 학습 시키고 싶다면 위의 줄에 있는 코드로 학습시키자"
      ],
      "metadata": {
        "colab": {
          "base_uri": "https://localhost:8080/"
        },
        "id": "PBoCqbsq8s0o",
        "outputId": "8315185e-3c82-40c2-f010-864a5526fab9"
      },
      "execution_count": null,
      "outputs": [
        {
          "output_type": "stream",
          "name": "stdout",
          "text": [
            "Downloading https://github.com/ultralytics/assets/releases/download/v0.0.0/yolov8n.pt to 'yolov8n.pt'...\n"
          ]
        },
        {
          "output_type": "stream",
          "name": "stderr",
          "text": [
            "100%|██████████| 6.23M/6.23M [00:00<00:00, 124MB/s]\n"
          ]
        },
        {
          "output_type": "stream",
          "name": "stdout",
          "text": [
            "Ultralytics YOLOv8.0.228 🚀 Python-3.10.12 torch-2.1.0+cu121 CUDA:0 (Tesla T4, 15102MiB)\n",
            "\u001b[34m\u001b[1mengine/trainer: \u001b[0mtask=detect, mode=train, model=yolov8n.pt, data=/content/Relabel_Dog/9/data_vm_0_10.yaml, epochs=50, time=None, patience=50, batch=16, imgsz=416, save=True, save_period=-1, cache=False, device=None, workers=8, project=None, name=train, exist_ok=False, pretrained=True, optimizer=auto, verbose=True, seed=0, deterministic=True, single_cls=False, rect=False, cos_lr=False, close_mosaic=10, resume=False, amp=True, fraction=1.0, profile=False, freeze=None, overlap_mask=True, mask_ratio=4, dropout=0.0, val=True, split=val, save_json=False, save_hybrid=False, conf=None, iou=0.7, max_det=300, half=False, dnn=False, plots=True, source=None, vid_stride=1, stream_buffer=False, visualize=False, augment=False, agnostic_nms=False, classes=None, retina_masks=False, show=False, save_frames=False, save_txt=False, save_conf=False, save_crop=False, show_labels=True, show_conf=True, show_boxes=True, line_width=None, format=torchscript, keras=False, optimize=False, int8=False, dynamic=False, simplify=False, opset=None, workspace=4, nms=False, lr0=0.01, lrf=0.01, momentum=0.937, weight_decay=0.0005, warmup_epochs=3.0, warmup_momentum=0.8, warmup_bias_lr=0.1, box=7.5, cls=0.5, dfl=1.5, pose=12.0, kobj=1.0, label_smoothing=0.0, nbs=64, hsv_h=0.015, hsv_s=0.7, hsv_v=0.4, degrees=0.0, translate=0.1, scale=0.5, shear=0.0, perspective=0.0, flipud=0.0, fliplr=0.5, mosaic=1.0, mixup=0.0, copy_paste=0.0, cfg=None, tracker=botsort.yaml, save_dir=runs/detect/train\n",
            "Downloading https://ultralytics.com/assets/Arial.ttf to '/root/.config/Ultralytics/Arial.ttf'...\n"
          ]
        },
        {
          "output_type": "stream",
          "name": "stderr",
          "text": [
            "100%|██████████| 755k/755k [00:00<00:00, 25.4MB/s]\n"
          ]
        },
        {
          "output_type": "stream",
          "name": "stdout",
          "text": [
            "Overriding model.yaml nc=80 with nc=2\n",
            "\n",
            "                   from  n    params  module                                       arguments                     \n",
            "  0                  -1  1       464  ultralytics.nn.modules.conv.Conv             [3, 16, 3, 2]                 \n",
            "  1                  -1  1      4672  ultralytics.nn.modules.conv.Conv             [16, 32, 3, 2]                \n",
            "  2                  -1  1      7360  ultralytics.nn.modules.block.C2f             [32, 32, 1, True]             \n",
            "  3                  -1  1     18560  ultralytics.nn.modules.conv.Conv             [32, 64, 3, 2]                \n",
            "  4                  -1  2     49664  ultralytics.nn.modules.block.C2f             [64, 64, 2, True]             \n",
            "  5                  -1  1     73984  ultralytics.nn.modules.conv.Conv             [64, 128, 3, 2]               \n",
            "  6                  -1  2    197632  ultralytics.nn.modules.block.C2f             [128, 128, 2, True]           \n",
            "  7                  -1  1    295424  ultralytics.nn.modules.conv.Conv             [128, 256, 3, 2]              \n",
            "  8                  -1  1    460288  ultralytics.nn.modules.block.C2f             [256, 256, 1, True]           \n",
            "  9                  -1  1    164608  ultralytics.nn.modules.block.SPPF            [256, 256, 5]                 \n",
            " 10                  -1  1         0  torch.nn.modules.upsampling.Upsample         [None, 2, 'nearest']          \n",
            " 11             [-1, 6]  1         0  ultralytics.nn.modules.conv.Concat           [1]                           \n",
            " 12                  -1  1    148224  ultralytics.nn.modules.block.C2f             [384, 128, 1]                 \n",
            " 13                  -1  1         0  torch.nn.modules.upsampling.Upsample         [None, 2, 'nearest']          \n",
            " 14             [-1, 4]  1         0  ultralytics.nn.modules.conv.Concat           [1]                           \n",
            " 15                  -1  1     37248  ultralytics.nn.modules.block.C2f             [192, 64, 1]                  \n",
            " 16                  -1  1     36992  ultralytics.nn.modules.conv.Conv             [64, 64, 3, 2]                \n",
            " 17            [-1, 12]  1         0  ultralytics.nn.modules.conv.Concat           [1]                           \n",
            " 18                  -1  1    123648  ultralytics.nn.modules.block.C2f             [192, 128, 1]                 \n",
            " 19                  -1  1    147712  ultralytics.nn.modules.conv.Conv             [128, 128, 3, 2]              \n",
            " 20             [-1, 9]  1         0  ultralytics.nn.modules.conv.Concat           [1]                           \n",
            " 21                  -1  1    493056  ultralytics.nn.modules.block.C2f             [384, 256, 1]                 \n",
            " 22        [15, 18, 21]  1    751702  ultralytics.nn.modules.head.Detect           [2, [64, 128, 256]]           \n",
            "Model summary: 225 layers, 3011238 parameters, 3011222 gradients, 8.2 GFLOPs\n",
            "\n",
            "Transferred 319/355 items from pretrained weights\n",
            "\u001b[34m\u001b[1mTensorBoard: \u001b[0mStart with 'tensorboard --logdir runs/detect/train', view at http://localhost:6006/\n",
            "Freezing layer 'model.22.dfl.conv.weight'\n",
            "\u001b[34m\u001b[1mAMP: \u001b[0mrunning Automatic Mixed Precision (AMP) checks with YOLOv8n...\n",
            "WARNING ⚠️ NMS time limit 0.550s exceeded\n",
            "\u001b[34m\u001b[1mAMP: \u001b[0mchecks passed ✅\n"
          ]
        },
        {
          "output_type": "stream",
          "name": "stderr",
          "text": [
            "\u001b[34m\u001b[1mtrain: \u001b[0mScanning /content/Relabel_Dog/9/train/labels... 14722 images, 2077 backgrounds, 0 corrupt: 100%|██████████| 16799/16799 [00:11<00:00, 1525.81it/s]\n"
          ]
        },
        {
          "output_type": "stream",
          "name": "stdout",
          "text": [
            "\u001b[34m\u001b[1mtrain: \u001b[0mNew cache created: /content/Relabel_Dog/9/train/labels.cache\n",
            "\u001b[34m\u001b[1malbumentations: \u001b[0mBlur(p=0.01, blur_limit=(3, 7)), MedianBlur(p=0.01, blur_limit=(3, 7)), ToGray(p=0.01), CLAHE(p=0.01, clip_limit=(1, 4.0), tile_grid_size=(8, 8))\n"
          ]
        },
        {
          "output_type": "stream",
          "name": "stderr",
          "text": [
            "\u001b[34m\u001b[1mval: \u001b[0mScanning /content/Relabel_Dog/9/val/labels... 2399 images, 0 backgrounds, 0 corrupt: 100%|██████████| 2399/2399 [00:01<00:00, 1210.57it/s]\n"
          ]
        },
        {
          "output_type": "stream",
          "name": "stdout",
          "text": [
            "\u001b[34m\u001b[1mval: \u001b[0mNew cache created: /content/Relabel_Dog/9/val/labels.cache\n",
            "Plotting labels to runs/detect/train/labels.jpg... \n",
            "\u001b[34m\u001b[1moptimizer:\u001b[0m 'optimizer=auto' found, ignoring 'lr0=0.01' and 'momentum=0.937' and determining best 'optimizer', 'lr0' and 'momentum' automatically... \n",
            "\u001b[34m\u001b[1moptimizer:\u001b[0m SGD(lr=0.01, momentum=0.9) with parameter groups 57 weight(decay=0.0), 64 weight(decay=0.0005), 63 bias(decay=0.0)\n",
            "50 epochs...\n",
            "\n",
            "      Epoch    GPU_mem   box_loss   cls_loss   dfl_loss  Instances       Size\n"
          ]
        },
        {
          "output_type": "stream",
          "name": "stderr",
          "text": [
            "       1/50      1.15G     0.7596      1.526       1.25         29        416: 100%|██████████| 1050/1050 [04:48<00:00,  3.64it/s]\n",
            "                 Class     Images  Instances      Box(P          R      mAP50  mAP50-95): 100%|██████████| 75/75 [00:31<00:00,  2.39it/s]\n"
          ]
        },
        {
          "output_type": "stream",
          "name": "stdout",
          "text": [
            "                   all       2399       2399       0.99      0.378      0.384      0.381\n",
            "\n",
            "      Epoch    GPU_mem   box_loss   cls_loss   dfl_loss  Instances       Size\n"
          ]
        },
        {
          "output_type": "stream",
          "name": "stderr",
          "text": [
            "       2/50      1.05G     0.6449     0.9456      1.112         31        416: 100%|██████████| 1050/1050 [04:35<00:00,  3.81it/s]\n",
            "                 Class     Images  Instances      Box(P          R      mAP50  mAP50-95): 100%|██████████| 75/75 [00:26<00:00,  2.81it/s]\n"
          ]
        },
        {
          "output_type": "stream",
          "name": "stdout",
          "text": [
            "                   all       2399       2399      0.972      0.321      0.364      0.358\n",
            "\n",
            "      Epoch    GPU_mem   box_loss   cls_loss   dfl_loss  Instances       Size\n"
          ]
        },
        {
          "output_type": "stream",
          "name": "stderr",
          "text": [
            "       3/50      1.03G     0.6624      0.863      1.118         31        416: 100%|██████████| 1050/1050 [04:30<00:00,  3.89it/s]\n",
            "                 Class     Images  Instances      Box(P          R      mAP50  mAP50-95): 100%|██████████| 75/75 [00:22<00:00,  3.37it/s]\n"
          ]
        },
        {
          "output_type": "stream",
          "name": "stdout",
          "text": [
            "                   all       2399       2399      0.973      0.374      0.384      0.374\n",
            "\n",
            "      Epoch    GPU_mem   box_loss   cls_loss   dfl_loss  Instances       Size\n"
          ]
        },
        {
          "output_type": "stream",
          "name": "stderr",
          "text": [
            "       4/50      1.04G     0.6349      0.816       1.11         23        416: 100%|██████████| 1050/1050 [04:16<00:00,  4.10it/s]\n",
            "                 Class     Images  Instances      Box(P          R      mAP50  mAP50-95): 100%|██████████| 75/75 [00:24<00:00,  3.09it/s]\n"
          ]
        },
        {
          "output_type": "stream",
          "name": "stdout",
          "text": [
            "                   all       2399       2399      0.976       0.38      0.385      0.352\n",
            "\n",
            "      Epoch    GPU_mem   box_loss   cls_loss   dfl_loss  Instances       Size\n"
          ]
        },
        {
          "output_type": "stream",
          "name": "stderr",
          "text": [
            "       5/50      1.02G     0.5792     0.7656      1.091         25        416: 100%|██████████| 1050/1050 [04:15<00:00,  4.10it/s]\n",
            "                 Class     Images  Instances      Box(P          R      mAP50  mAP50-95): 100%|██████████| 75/75 [00:26<00:00,  2.87it/s]"
          ]
        },
        {
          "output_type": "stream",
          "name": "stdout",
          "text": [
            "                   all       2399       2399      0.963      0.364      0.383      0.341\n"
          ]
        },
        {
          "output_type": "stream",
          "name": "stderr",
          "text": [
            "\n"
          ]
        },
        {
          "output_type": "stream",
          "name": "stdout",
          "text": [
            "\n",
            "      Epoch    GPU_mem   box_loss   cls_loss   dfl_loss  Instances       Size\n"
          ]
        },
        {
          "output_type": "stream",
          "name": "stderr",
          "text": [
            "       6/50      1.03G     0.5434     0.7245      1.077         28        416: 100%|██████████| 1050/1050 [04:12<00:00,  4.17it/s]\n",
            "                 Class     Images  Instances      Box(P          R      mAP50  mAP50-95): 100%|██████████| 75/75 [00:21<00:00,  3.52it/s]\n"
          ]
        },
        {
          "output_type": "stream",
          "name": "stdout",
          "text": [
            "                   all       2399       2399       0.99      0.383       0.39      0.361\n",
            "\n",
            "      Epoch    GPU_mem   box_loss   cls_loss   dfl_loss  Instances       Size\n"
          ]
        },
        {
          "output_type": "stream",
          "name": "stderr",
          "text": [
            "       7/50      1.02G     0.5189     0.7072      1.068         19        416: 100%|██████████| 1050/1050 [04:23<00:00,  3.99it/s]\n",
            "                 Class     Images  Instances      Box(P          R      mAP50  mAP50-95): 100%|██████████| 75/75 [00:21<00:00,  3.50it/s]\n"
          ]
        },
        {
          "output_type": "stream",
          "name": "stdout",
          "text": [
            "                   all       2399       2399      0.981      0.371       0.39      0.378\n",
            "\n",
            "      Epoch    GPU_mem   box_loss   cls_loss   dfl_loss  Instances       Size\n"
          ]
        },
        {
          "output_type": "stream",
          "name": "stderr",
          "text": [
            "       8/50      1.04G     0.5008     0.6887      1.062         23        416: 100%|██████████| 1050/1050 [04:26<00:00,  3.95it/s]\n",
            "                 Class     Images  Instances      Box(P          R      mAP50  mAP50-95): 100%|██████████| 75/75 [00:21<00:00,  3.51it/s]"
          ]
        },
        {
          "output_type": "stream",
          "name": "stdout",
          "text": [
            "                   all       2399       2399      0.995      0.379      0.392      0.378\n"
          ]
        },
        {
          "output_type": "stream",
          "name": "stderr",
          "text": [
            "\n"
          ]
        },
        {
          "output_type": "stream",
          "name": "stdout",
          "text": [
            "\n",
            "      Epoch    GPU_mem   box_loss   cls_loss   dfl_loss  Instances       Size\n"
          ]
        },
        {
          "output_type": "stream",
          "name": "stderr",
          "text": [
            "       9/50      1.02G     0.4806     0.6801      1.054         23        416: 100%|██████████| 1050/1050 [04:22<00:00,  3.99it/s]\n",
            "                 Class     Images  Instances      Box(P          R      mAP50  mAP50-95): 100%|██████████| 75/75 [00:23<00:00,  3.17it/s]\n"
          ]
        },
        {
          "output_type": "stream",
          "name": "stdout",
          "text": [
            "                   all       2399       2399      0.999      0.379       0.39      0.361\n",
            "\n",
            "      Epoch    GPU_mem   box_loss   cls_loss   dfl_loss  Instances       Size\n"
          ]
        },
        {
          "output_type": "stream",
          "name": "stderr",
          "text": [
            "      10/50      1.04G     0.4698     0.6736      1.049         27        416: 100%|██████████| 1050/1050 [04:19<00:00,  4.04it/s]\n",
            "                 Class     Images  Instances      Box(P          R      mAP50  mAP50-95): 100%|██████████| 75/75 [00:22<00:00,  3.27it/s]"
          ]
        },
        {
          "output_type": "stream",
          "name": "stdout",
          "text": [
            "                   all       2399       2399      0.998      0.382      0.399      0.319\n"
          ]
        },
        {
          "output_type": "stream",
          "name": "stderr",
          "text": [
            "\n"
          ]
        },
        {
          "output_type": "stream",
          "name": "stdout",
          "text": [
            "\n",
            "      Epoch    GPU_mem   box_loss   cls_loss   dfl_loss  Instances       Size\n"
          ]
        },
        {
          "output_type": "stream",
          "name": "stderr",
          "text": [
            "      11/50      1.02G     0.4532     0.6554      1.046         33        416: 100%|██████████| 1050/1050 [04:20<00:00,  4.02it/s]\n",
            "                 Class     Images  Instances      Box(P          R      mAP50  mAP50-95): 100%|██████████| 75/75 [00:21<00:00,  3.49it/s]"
          ]
        },
        {
          "output_type": "stream",
          "name": "stdout",
          "text": [
            "                   all       2399       2399      0.989      0.382      0.399       0.33\n"
          ]
        },
        {
          "output_type": "stream",
          "name": "stderr",
          "text": [
            "\n"
          ]
        },
        {
          "output_type": "stream",
          "name": "stdout",
          "text": [
            "\n",
            "      Epoch    GPU_mem   box_loss   cls_loss   dfl_loss  Instances       Size\n"
          ]
        },
        {
          "output_type": "stream",
          "name": "stderr",
          "text": [
            "      12/50      1.04G      0.452     0.6637      1.048         31        416: 100%|██████████| 1050/1050 [04:23<00:00,  3.99it/s]\n",
            "                 Class     Images  Instances      Box(P          R      mAP50  mAP50-95): 100%|██████████| 75/75 [00:21<00:00,  3.47it/s]\n"
          ]
        },
        {
          "output_type": "stream",
          "name": "stdout",
          "text": [
            "                   all       2399       2399      0.999      0.382      0.397      0.368\n",
            "\n",
            "      Epoch    GPU_mem   box_loss   cls_loss   dfl_loss  Instances       Size\n"
          ]
        },
        {
          "output_type": "stream",
          "name": "stderr",
          "text": [
            "      13/50      1.02G     0.4432     0.6569      1.043         24        416: 100%|██████████| 1050/1050 [04:21<00:00,  4.01it/s]\n",
            "                 Class     Images  Instances      Box(P          R      mAP50  mAP50-95): 100%|██████████| 75/75 [00:21<00:00,  3.49it/s]"
          ]
        },
        {
          "output_type": "stream",
          "name": "stdout",
          "text": [
            "                   all       2399       2399      0.999      0.383      0.397      0.383\n"
          ]
        },
        {
          "output_type": "stream",
          "name": "stderr",
          "text": [
            "\n"
          ]
        },
        {
          "output_type": "stream",
          "name": "stdout",
          "text": [
            "\n",
            "      Epoch    GPU_mem   box_loss   cls_loss   dfl_loss  Instances       Size\n"
          ]
        },
        {
          "output_type": "stream",
          "name": "stderr",
          "text": [
            "      14/50      1.04G      0.434     0.6482      1.041         33        416: 100%|██████████| 1050/1050 [04:26<00:00,  3.94it/s]\n",
            "                 Class     Images  Instances      Box(P          R      mAP50  mAP50-95): 100%|██████████| 75/75 [00:22<00:00,  3.39it/s]"
          ]
        },
        {
          "output_type": "stream",
          "name": "stdout",
          "text": [
            "                   all       2399       2399      0.996      0.384      0.394      0.386\n"
          ]
        },
        {
          "output_type": "stream",
          "name": "stderr",
          "text": [
            "\n"
          ]
        },
        {
          "output_type": "stream",
          "name": "stdout",
          "text": [
            "\n",
            "      Epoch    GPU_mem   box_loss   cls_loss   dfl_loss  Instances       Size\n"
          ]
        },
        {
          "output_type": "stream",
          "name": "stderr",
          "text": [
            "      15/50      1.02G     0.4275     0.6498       1.04         34        416: 100%|██████████| 1050/1050 [04:32<00:00,  3.85it/s]\n",
            "                 Class     Images  Instances      Box(P          R      mAP50  mAP50-95): 100%|██████████| 75/75 [00:23<00:00,  3.26it/s]"
          ]
        },
        {
          "output_type": "stream",
          "name": "stdout",
          "text": [
            "                   all       2399       2399      0.999      0.384      0.396      0.389\n"
          ]
        },
        {
          "output_type": "stream",
          "name": "stderr",
          "text": [
            "\n"
          ]
        },
        {
          "output_type": "stream",
          "name": "stdout",
          "text": [
            "\n",
            "      Epoch    GPU_mem   box_loss   cls_loss   dfl_loss  Instances       Size\n"
          ]
        },
        {
          "output_type": "stream",
          "name": "stderr",
          "text": [
            "      16/50      1.04G     0.4201     0.6294      1.035         21        416: 100%|██████████| 1050/1050 [04:28<00:00,  3.91it/s]\n",
            "                 Class     Images  Instances      Box(P          R      mAP50  mAP50-95): 100%|██████████| 75/75 [00:23<00:00,  3.22it/s]\n"
          ]
        },
        {
          "output_type": "stream",
          "name": "stdout",
          "text": [
            "                   all       2399       2399      0.996       0.38      0.396      0.387\n",
            "\n",
            "      Epoch    GPU_mem   box_loss   cls_loss   dfl_loss  Instances       Size\n"
          ]
        },
        {
          "output_type": "stream",
          "name": "stderr",
          "text": [
            "      17/50      1.02G     0.4203     0.6339      1.037         26        416: 100%|██████████| 1050/1050 [04:20<00:00,  4.04it/s]\n",
            "                 Class     Images  Instances      Box(P          R      mAP50  mAP50-95): 100%|██████████| 75/75 [00:25<00:00,  2.91it/s]"
          ]
        },
        {
          "output_type": "stream",
          "name": "stdout",
          "text": [
            "                   all       2399       2399      0.999      0.383      0.402      0.386\n"
          ]
        },
        {
          "output_type": "stream",
          "name": "stderr",
          "text": [
            "\n"
          ]
        },
        {
          "output_type": "stream",
          "name": "stdout",
          "text": [
            "\n",
            "      Epoch    GPU_mem   box_loss   cls_loss   dfl_loss  Instances       Size\n"
          ]
        },
        {
          "output_type": "stream",
          "name": "stderr",
          "text": [
            "      18/50      1.04G     0.4106     0.6249      1.032         30        416: 100%|██████████| 1050/1050 [04:19<00:00,  4.05it/s]\n",
            "                 Class     Images  Instances      Box(P          R      mAP50  mAP50-95): 100%|██████████| 75/75 [00:21<00:00,  3.47it/s]\n"
          ]
        },
        {
          "output_type": "stream",
          "name": "stdout",
          "text": [
            "                   all       2399       2399          1      0.378        0.4      0.381\n",
            "\n",
            "      Epoch    GPU_mem   box_loss   cls_loss   dfl_loss  Instances       Size\n"
          ]
        },
        {
          "output_type": "stream",
          "name": "stderr",
          "text": [
            "      19/50      1.02G     0.4047     0.6191      1.028         25        416: 100%|██████████| 1050/1050 [04:20<00:00,  4.03it/s]\n",
            "                 Class     Images  Instances      Box(P          R      mAP50  mAP50-95): 100%|██████████| 75/75 [00:23<00:00,  3.21it/s]\n"
          ]
        },
        {
          "output_type": "stream",
          "name": "stdout",
          "text": [
            "                   all       2399       2399      0.999      0.384      0.406      0.389\n",
            "\n",
            "      Epoch    GPU_mem   box_loss   cls_loss   dfl_loss  Instances       Size\n"
          ]
        },
        {
          "output_type": "stream",
          "name": "stderr",
          "text": [
            "      20/50      1.04G     0.3969     0.6184       1.03         23        416: 100%|██████████| 1050/1050 [04:17<00:00,  4.08it/s]\n",
            "                 Class     Images  Instances      Box(P          R      mAP50  mAP50-95): 100%|██████████| 75/75 [00:21<00:00,  3.54it/s]\n"
          ]
        },
        {
          "output_type": "stream",
          "name": "stdout",
          "text": [
            "                   all       2399       2399      0.999      0.384      0.401      0.369\n",
            "\n",
            "      Epoch    GPU_mem   box_loss   cls_loss   dfl_loss  Instances       Size\n"
          ]
        },
        {
          "output_type": "stream",
          "name": "stderr",
          "text": [
            "      21/50      1.02G     0.3958     0.6231       1.03         35        416: 100%|██████████| 1050/1050 [04:20<00:00,  4.03it/s]\n",
            "                 Class     Images  Instances      Box(P          R      mAP50  mAP50-95): 100%|██████████| 75/75 [00:22<00:00,  3.36it/s]"
          ]
        },
        {
          "output_type": "stream",
          "name": "stdout",
          "text": [
            "                   all       2399       2399      0.993      0.384      0.406      0.388\n"
          ]
        },
        {
          "output_type": "stream",
          "name": "stderr",
          "text": [
            "\n"
          ]
        },
        {
          "output_type": "stream",
          "name": "stdout",
          "text": [
            "\n",
            "      Epoch    GPU_mem   box_loss   cls_loss   dfl_loss  Instances       Size\n"
          ]
        },
        {
          "output_type": "stream",
          "name": "stderr",
          "text": [
            "      22/50      1.04G     0.3973     0.6216      1.031         30        416: 100%|██████████| 1050/1050 [04:16<00:00,  4.09it/s]\n",
            "                 Class     Images  Instances      Box(P          R      mAP50  mAP50-95): 100%|██████████| 75/75 [00:20<00:00,  3.58it/s]"
          ]
        },
        {
          "output_type": "stream",
          "name": "stdout",
          "text": [
            "                   all       2399       2399      0.999      0.383      0.406       0.39\n"
          ]
        },
        {
          "output_type": "stream",
          "name": "stderr",
          "text": [
            "\n"
          ]
        },
        {
          "output_type": "stream",
          "name": "stdout",
          "text": [
            "\n",
            "      Epoch    GPU_mem   box_loss   cls_loss   dfl_loss  Instances       Size\n"
          ]
        },
        {
          "output_type": "stream",
          "name": "stderr",
          "text": [
            "      23/50      1.02G     0.3917     0.6172      1.026         26        416: 100%|██████████| 1050/1050 [04:16<00:00,  4.09it/s]\n",
            "                 Class     Images  Instances      Box(P          R      mAP50  mAP50-95): 100%|██████████| 75/75 [00:23<00:00,  3.25it/s]\n"
          ]
        },
        {
          "output_type": "stream",
          "name": "stdout",
          "text": [
            "                   all       2399       2399      0.997      0.384      0.403       0.39\n",
            "\n",
            "      Epoch    GPU_mem   box_loss   cls_loss   dfl_loss  Instances       Size\n"
          ]
        },
        {
          "output_type": "stream",
          "name": "stderr",
          "text": [
            "      24/50      1.04G     0.3847     0.6061      1.025         31        416: 100%|██████████| 1050/1050 [04:17<00:00,  4.09it/s]\n",
            "                 Class     Images  Instances      Box(P          R      mAP50  mAP50-95): 100%|██████████| 75/75 [00:21<00:00,  3.56it/s]"
          ]
        },
        {
          "output_type": "stream",
          "name": "stdout",
          "text": [
            "                   all       2399       2399          1      0.382      0.402      0.389\n"
          ]
        },
        {
          "output_type": "stream",
          "name": "stderr",
          "text": [
            "\n"
          ]
        },
        {
          "output_type": "stream",
          "name": "stdout",
          "text": [
            "\n",
            "      Epoch    GPU_mem   box_loss   cls_loss   dfl_loss  Instances       Size\n"
          ]
        },
        {
          "output_type": "stream",
          "name": "stderr",
          "text": [
            "      25/50      1.02G     0.3821     0.6041      1.024         23        416: 100%|██████████| 1050/1050 [04:19<00:00,  4.04it/s]\n",
            "                 Class     Images  Instances      Box(P          R      mAP50  mAP50-95): 100%|██████████| 75/75 [00:22<00:00,  3.29it/s]\n"
          ]
        },
        {
          "output_type": "stream",
          "name": "stdout",
          "text": [
            "                   all       2399       2399      0.996      0.381      0.401      0.389\n",
            "\n",
            "      Epoch    GPU_mem   box_loss   cls_loss   dfl_loss  Instances       Size\n"
          ]
        },
        {
          "output_type": "stream",
          "name": "stderr",
          "text": [
            "      26/50      1.04G     0.3799     0.6046      1.022         31        416: 100%|██████████| 1050/1050 [04:21<00:00,  4.02it/s]\n",
            "                 Class     Images  Instances      Box(P          R      mAP50  mAP50-95): 100%|██████████| 75/75 [00:21<00:00,  3.52it/s]"
          ]
        },
        {
          "output_type": "stream",
          "name": "stdout",
          "text": [
            "                   all       2399       2399      0.999      0.383      0.403      0.382\n"
          ]
        },
        {
          "output_type": "stream",
          "name": "stderr",
          "text": [
            "\n"
          ]
        },
        {
          "output_type": "stream",
          "name": "stdout",
          "text": [
            "\n",
            "      Epoch    GPU_mem   box_loss   cls_loss   dfl_loss  Instances       Size\n"
          ]
        },
        {
          "output_type": "stream",
          "name": "stderr",
          "text": [
            "      27/50      1.02G     0.3824     0.6056      1.023         28        416: 100%|██████████| 1050/1050 [04:21<00:00,  4.01it/s]\n",
            "                 Class     Images  Instances      Box(P          R      mAP50  mAP50-95): 100%|██████████| 75/75 [00:21<00:00,  3.45it/s]\n"
          ]
        },
        {
          "output_type": "stream",
          "name": "stdout",
          "text": [
            "                   all       2399       2399      0.614      0.394      0.409      0.391\n",
            "\n",
            "      Epoch    GPU_mem   box_loss   cls_loss   dfl_loss  Instances       Size\n"
          ]
        },
        {
          "output_type": "stream",
          "name": "stderr",
          "text": [
            "      28/50      1.04G     0.3783     0.6015      1.023         25        416: 100%|██████████| 1050/1050 [04:15<00:00,  4.10it/s]\n",
            "                 Class     Images  Instances      Box(P          R      mAP50  mAP50-95): 100%|██████████| 75/75 [00:22<00:00,  3.31it/s]\n"
          ]
        },
        {
          "output_type": "stream",
          "name": "stdout",
          "text": [
            "                   all       2399       2399      0.486      0.384      0.403       0.39\n",
            "\n",
            "      Epoch    GPU_mem   box_loss   cls_loss   dfl_loss  Instances       Size\n"
          ]
        },
        {
          "output_type": "stream",
          "name": "stderr",
          "text": [
            "      29/50      1.02G     0.3716     0.5996      1.018         26        416: 100%|██████████| 1050/1050 [04:19<00:00,  4.04it/s]\n",
            "                 Class     Images  Instances      Box(P          R      mAP50  mAP50-95): 100%|██████████| 75/75 [00:21<00:00,  3.44it/s]\n"
          ]
        },
        {
          "output_type": "stream",
          "name": "stdout",
          "text": [
            "                   all       2399       2399      0.993      0.378      0.406       0.39\n",
            "\n",
            "      Epoch    GPU_mem   box_loss   cls_loss   dfl_loss  Instances       Size\n"
          ]
        },
        {
          "output_type": "stream",
          "name": "stderr",
          "text": [
            "      30/50      1.04G     0.3728     0.6031      1.019         28        416: 100%|██████████| 1050/1050 [04:21<00:00,  4.02it/s]\n",
            "                 Class     Images  Instances      Box(P          R      mAP50  mAP50-95): 100%|██████████| 75/75 [00:21<00:00,  3.51it/s]"
          ]
        },
        {
          "output_type": "stream",
          "name": "stdout",
          "text": [
            "                   all       2399       2399      0.999      0.384      0.409      0.392\n"
          ]
        },
        {
          "output_type": "stream",
          "name": "stderr",
          "text": [
            "\n"
          ]
        },
        {
          "output_type": "stream",
          "name": "stdout",
          "text": [
            "\n",
            "      Epoch    GPU_mem   box_loss   cls_loss   dfl_loss  Instances       Size\n"
          ]
        },
        {
          "output_type": "stream",
          "name": "stderr",
          "text": [
            "      31/50      1.02G     0.3634     0.5947      1.016         32        416: 100%|██████████| 1050/1050 [04:21<00:00,  4.02it/s]\n",
            "                 Class     Images  Instances      Box(P          R      mAP50  mAP50-95): 100%|██████████| 75/75 [00:22<00:00,  3.33it/s]"
          ]
        },
        {
          "output_type": "stream",
          "name": "stdout",
          "text": [
            "                   all       2399       2399      0.999      0.382      0.407       0.39\n"
          ]
        },
        {
          "output_type": "stream",
          "name": "stderr",
          "text": [
            "\n"
          ]
        },
        {
          "output_type": "stream",
          "name": "stdout",
          "text": [
            "\n",
            "      Epoch    GPU_mem   box_loss   cls_loss   dfl_loss  Instances       Size\n"
          ]
        },
        {
          "output_type": "stream",
          "name": "stderr",
          "text": [
            "      32/50      1.04G     0.3585     0.5861      1.015         29        416: 100%|██████████| 1050/1050 [04:22<00:00,  4.00it/s]\n",
            "                 Class     Images  Instances      Box(P          R      mAP50  mAP50-95): 100%|██████████| 75/75 [00:27<00:00,  2.70it/s]"
          ]
        },
        {
          "output_type": "stream",
          "name": "stdout",
          "text": [
            "                   all       2399       2399      0.712      0.385      0.411      0.392\n"
          ]
        },
        {
          "output_type": "stream",
          "name": "stderr",
          "text": [
            "\n"
          ]
        },
        {
          "output_type": "stream",
          "name": "stdout",
          "text": [
            "\n",
            "      Epoch    GPU_mem   box_loss   cls_loss   dfl_loss  Instances       Size\n"
          ]
        },
        {
          "output_type": "stream",
          "name": "stderr",
          "text": [
            "      33/50      1.02G     0.3609     0.5887      1.018         24        416: 100%|██████████| 1050/1050 [04:19<00:00,  4.04it/s]\n",
            "                 Class     Images  Instances      Box(P          R      mAP50  mAP50-95): 100%|██████████| 75/75 [00:23<00:00,  3.22it/s]\n"
          ]
        },
        {
          "output_type": "stream",
          "name": "stdout",
          "text": [
            "                   all       2399       2399      0.705      0.387      0.411      0.392\n",
            "\n",
            "      Epoch    GPU_mem   box_loss   cls_loss   dfl_loss  Instances       Size\n"
          ]
        },
        {
          "output_type": "stream",
          "name": "stderr",
          "text": [
            "      34/50      1.04G     0.3549     0.5885      1.016         35        416: 100%|██████████| 1050/1050 [04:21<00:00,  4.01it/s]\n",
            "                 Class     Images  Instances      Box(P          R      mAP50  mAP50-95): 100%|██████████| 75/75 [00:21<00:00,  3.48it/s]"
          ]
        },
        {
          "output_type": "stream",
          "name": "stdout",
          "text": [
            "                   all       2399       2399      0.995      0.384      0.411      0.392\n"
          ]
        },
        {
          "output_type": "stream",
          "name": "stderr",
          "text": [
            "\n"
          ]
        },
        {
          "output_type": "stream",
          "name": "stdout",
          "text": [
            "\n",
            "      Epoch    GPU_mem   box_loss   cls_loss   dfl_loss  Instances       Size\n"
          ]
        },
        {
          "output_type": "stream",
          "name": "stderr",
          "text": [
            "      35/50      1.02G     0.3561     0.5955      1.015         29        416: 100%|██████████| 1050/1050 [04:27<00:00,  3.93it/s]\n",
            "                 Class     Images  Instances      Box(P          R      mAP50  mAP50-95): 100%|██████████| 75/75 [00:21<00:00,  3.49it/s]"
          ]
        },
        {
          "output_type": "stream",
          "name": "stdout",
          "text": [
            "                   all       2399       2399      0.744      0.386      0.413      0.392\n"
          ]
        },
        {
          "output_type": "stream",
          "name": "stderr",
          "text": [
            "\n"
          ]
        },
        {
          "output_type": "stream",
          "name": "stdout",
          "text": [
            "\n",
            "      Epoch    GPU_mem   box_loss   cls_loss   dfl_loss  Instances       Size\n"
          ]
        },
        {
          "output_type": "stream",
          "name": "stderr",
          "text": [
            "      36/50      1.04G      0.349     0.5833      1.012         26        416: 100%|██████████| 1050/1050 [04:29<00:00,  3.90it/s]\n",
            "                 Class     Images  Instances      Box(P          R      mAP50  mAP50-95): 100%|██████████| 75/75 [00:22<00:00,  3.36it/s]"
          ]
        },
        {
          "output_type": "stream",
          "name": "stdout",
          "text": [
            "                   all       2399       2399      0.645      0.393      0.414      0.392\n"
          ]
        },
        {
          "output_type": "stream",
          "name": "stderr",
          "text": [
            "\n"
          ]
        },
        {
          "output_type": "stream",
          "name": "stdout",
          "text": [
            "\n",
            "      Epoch    GPU_mem   box_loss   cls_loss   dfl_loss  Instances       Size\n"
          ]
        },
        {
          "output_type": "stream",
          "name": "stderr",
          "text": [
            "      37/50      1.02G      0.354     0.5853      1.015         28        416: 100%|██████████| 1050/1050 [04:23<00:00,  3.98it/s]\n",
            "                 Class     Images  Instances      Box(P          R      mAP50  mAP50-95): 100%|██████████| 75/75 [00:23<00:00,  3.17it/s]"
          ]
        },
        {
          "output_type": "stream",
          "name": "stdout",
          "text": [
            "                   all       2399       2399      0.658      0.391      0.414      0.393\n"
          ]
        },
        {
          "output_type": "stream",
          "name": "stderr",
          "text": [
            "\n"
          ]
        },
        {
          "output_type": "stream",
          "name": "stdout",
          "text": [
            "\n",
            "      Epoch    GPU_mem   box_loss   cls_loss   dfl_loss  Instances       Size\n"
          ]
        },
        {
          "output_type": "stream",
          "name": "stderr",
          "text": [
            "      38/50      1.04G     0.3525     0.5852      1.014         27        416: 100%|██████████| 1050/1050 [04:28<00:00,  3.92it/s]\n",
            "                 Class     Images  Instances      Box(P          R      mAP50  mAP50-95): 100%|██████████| 75/75 [00:24<00:00,  3.12it/s]"
          ]
        },
        {
          "output_type": "stream",
          "name": "stdout",
          "text": [
            "                   all       2399       2399       0.63      0.391      0.413      0.393\n"
          ]
        },
        {
          "output_type": "stream",
          "name": "stderr",
          "text": [
            "\n"
          ]
        },
        {
          "output_type": "stream",
          "name": "stdout",
          "text": [
            "\n",
            "      Epoch    GPU_mem   box_loss   cls_loss   dfl_loss  Instances       Size\n"
          ]
        },
        {
          "output_type": "stream",
          "name": "stderr",
          "text": [
            "      39/50      1.02G     0.3444     0.5792       1.01         27        416: 100%|██████████| 1050/1050 [04:27<00:00,  3.93it/s]\n",
            "                 Class     Images  Instances      Box(P          R      mAP50  mAP50-95): 100%|██████████| 75/75 [00:23<00:00,  3.14it/s]"
          ]
        },
        {
          "output_type": "stream",
          "name": "stdout",
          "text": [
            "                   all       2399       2399      0.695      0.389      0.414      0.393\n"
          ]
        },
        {
          "output_type": "stream",
          "name": "stderr",
          "text": [
            "\n"
          ]
        },
        {
          "output_type": "stream",
          "name": "stdout",
          "text": [
            "\n",
            "      Epoch    GPU_mem   box_loss   cls_loss   dfl_loss  Instances       Size\n"
          ]
        },
        {
          "output_type": "stream",
          "name": "stderr",
          "text": [
            "      40/50      1.04G     0.3449     0.5838      1.011         22        416: 100%|██████████| 1050/1050 [04:30<00:00,  3.88it/s]\n",
            "                 Class     Images  Instances      Box(P          R      mAP50  mAP50-95): 100%|██████████| 75/75 [00:23<00:00,  3.19it/s]"
          ]
        },
        {
          "output_type": "stream",
          "name": "stdout",
          "text": [
            "                   all       2399       2399      0.686      0.389      0.414      0.393\n"
          ]
        },
        {
          "output_type": "stream",
          "name": "stderr",
          "text": [
            "\n"
          ]
        },
        {
          "output_type": "stream",
          "name": "stdout",
          "text": [
            "Closing dataloader mosaic\n",
            "\u001b[34m\u001b[1malbumentations: \u001b[0mBlur(p=0.01, blur_limit=(3, 7)), MedianBlur(p=0.01, blur_limit=(3, 7)), ToGray(p=0.01), CLAHE(p=0.01, clip_limit=(1, 4.0), tile_grid_size=(8, 8))\n",
            "\n",
            "      Epoch    GPU_mem   box_loss   cls_loss   dfl_loss  Instances       Size\n"
          ]
        },
        {
          "output_type": "stream",
          "name": "stderr",
          "text": [
            "      41/50      1.15G     0.5628     0.8428      1.172         11        416: 100%|██████████| 1050/1050 [04:07<00:00,  4.24it/s]\n",
            "                 Class     Images  Instances      Box(P          R      mAP50  mAP50-95): 100%|██████████| 75/75 [00:27<00:00,  2.76it/s]"
          ]
        },
        {
          "output_type": "stream",
          "name": "stdout",
          "text": [
            "                   all       2399       2399      0.794      0.383      0.412      0.391\n"
          ]
        },
        {
          "output_type": "stream",
          "name": "stderr",
          "text": [
            "\n"
          ]
        },
        {
          "output_type": "stream",
          "name": "stdout",
          "text": [
            "\n",
            "      Epoch    GPU_mem   box_loss   cls_loss   dfl_loss  Instances       Size\n"
          ]
        },
        {
          "output_type": "stream",
          "name": "stderr",
          "text": [
            "      42/50      1.03G     0.5564     0.8437      1.178         12        416: 100%|██████████| 1050/1050 [04:05<00:00,  4.27it/s]\n",
            "                 Class     Images  Instances      Box(P          R      mAP50  mAP50-95): 100%|██████████| 75/75 [00:21<00:00,  3.43it/s]\n"
          ]
        },
        {
          "output_type": "stream",
          "name": "stdout",
          "text": [
            "                   all       2399       2399       0.79      0.387      0.412      0.392\n",
            "\n",
            "      Epoch    GPU_mem   box_loss   cls_loss   dfl_loss  Instances       Size\n"
          ]
        },
        {
          "output_type": "stream",
          "name": "stderr",
          "text": [
            "      43/50      1.02G     0.5505     0.8286      1.176         13        416: 100%|██████████| 1050/1050 [04:08<00:00,  4.22it/s]\n",
            "                 Class     Images  Instances      Box(P          R      mAP50  mAP50-95): 100%|██████████| 75/75 [00:21<00:00,  3.42it/s]\n"
          ]
        },
        {
          "output_type": "stream",
          "name": "stdout",
          "text": [
            "                   all       2399       2399      0.712      0.389      0.413      0.393\n",
            "\n",
            "      Epoch    GPU_mem   box_loss   cls_loss   dfl_loss  Instances       Size\n"
          ]
        },
        {
          "output_type": "stream",
          "name": "stderr",
          "text": [
            "      44/50      1.04G     0.5494     0.8353      1.171         11        416: 100%|██████████| 1050/1050 [04:07<00:00,  4.24it/s]\n",
            "                 Class     Images  Instances      Box(P          R      mAP50  mAP50-95): 100%|██████████| 75/75 [00:23<00:00,  3.24it/s]"
          ]
        },
        {
          "output_type": "stream",
          "name": "stdout",
          "text": [
            "                   all       2399       2399      0.691      0.391      0.414      0.393\n"
          ]
        },
        {
          "output_type": "stream",
          "name": "stderr",
          "text": [
            "\n"
          ]
        },
        {
          "output_type": "stream",
          "name": "stdout",
          "text": [
            "\n",
            "      Epoch    GPU_mem   box_loss   cls_loss   dfl_loss  Instances       Size\n"
          ]
        },
        {
          "output_type": "stream",
          "name": "stderr",
          "text": [
            "      45/50      1.02G     0.5498     0.8319      1.173         12        416: 100%|██████████| 1050/1050 [03:59<00:00,  4.38it/s]\n",
            "                 Class     Images  Instances      Box(P          R      mAP50  mAP50-95): 100%|██████████| 75/75 [00:22<00:00,  3.30it/s]\n"
          ]
        },
        {
          "output_type": "stream",
          "name": "stdout",
          "text": [
            "                   all       2399       2399      0.649      0.392      0.414      0.393\n",
            "\n",
            "      Epoch    GPU_mem   box_loss   cls_loss   dfl_loss  Instances       Size\n"
          ]
        },
        {
          "output_type": "stream",
          "name": "stderr",
          "text": [
            "      46/50      1.03G     0.5357     0.8186       1.17         10        416: 100%|██████████| 1050/1050 [04:03<00:00,  4.31it/s]\n",
            "                 Class     Images  Instances      Box(P          R      mAP50  mAP50-95): 100%|██████████| 75/75 [00:21<00:00,  3.45it/s]"
          ]
        },
        {
          "output_type": "stream",
          "name": "stdout",
          "text": [
            "                   all       2399       2399       0.66       0.39      0.414      0.393\n"
          ]
        },
        {
          "output_type": "stream",
          "name": "stderr",
          "text": [
            "\n"
          ]
        },
        {
          "output_type": "stream",
          "name": "stdout",
          "text": [
            "\n",
            "      Epoch    GPU_mem   box_loss   cls_loss   dfl_loss  Instances       Size\n"
          ]
        },
        {
          "output_type": "stream",
          "name": "stderr",
          "text": [
            "      47/50      1.02G     0.5328     0.8137      1.167         12        416: 100%|██████████| 1050/1050 [04:03<00:00,  4.32it/s]\n",
            "                 Class     Images  Instances      Box(P          R      mAP50  mAP50-95): 100%|██████████| 75/75 [00:22<00:00,  3.31it/s]\n"
          ]
        },
        {
          "output_type": "stream",
          "name": "stdout",
          "text": [
            "                   all       2399       2399      0.656      0.385      0.412      0.391\n",
            "\n",
            "      Epoch    GPU_mem   box_loss   cls_loss   dfl_loss  Instances       Size\n"
          ]
        },
        {
          "output_type": "stream",
          "name": "stderr",
          "text": [
            "      48/50      1.03G     0.5263     0.8125      1.159         13        416: 100%|██████████| 1050/1050 [04:06<00:00,  4.25it/s]\n",
            "                 Class     Images  Instances      Box(P          R      mAP50  mAP50-95): 100%|██████████| 75/75 [00:23<00:00,  3.20it/s]\n"
          ]
        },
        {
          "output_type": "stream",
          "name": "stdout",
          "text": [
            "                   all       2399       2399      0.652      0.386      0.413      0.392\n",
            "\n",
            "      Epoch    GPU_mem   box_loss   cls_loss   dfl_loss  Instances       Size\n"
          ]
        },
        {
          "output_type": "stream",
          "name": "stderr",
          "text": [
            "      49/50      1.02G        inf     0.8271      1.166          9        416: 100%|██████████| 1050/1050 [03:58<00:00,  4.40it/s]\n",
            "                 Class     Images  Instances      Box(P          R      mAP50  mAP50-95): 100%|██████████| 75/75 [00:21<00:00,  3.45it/s]"
          ]
        },
        {
          "output_type": "stream",
          "name": "stdout",
          "text": [
            "                   all       2399       2399       0.65      0.386      0.414      0.392\n"
          ]
        },
        {
          "output_type": "stream",
          "name": "stderr",
          "text": [
            "\n"
          ]
        },
        {
          "output_type": "stream",
          "name": "stdout",
          "text": [
            "\n",
            "      Epoch    GPU_mem   box_loss   cls_loss   dfl_loss  Instances       Size\n"
          ]
        },
        {
          "output_type": "stream",
          "name": "stderr",
          "text": [
            "      50/50      1.04G     0.5218     0.8062      1.155         14        416: 100%|██████████| 1050/1050 [04:07<00:00,  4.24it/s]\n",
            "                 Class     Images  Instances      Box(P          R      mAP50  mAP50-95): 100%|██████████| 75/75 [00:21<00:00,  3.51it/s]"
          ]
        },
        {
          "output_type": "stream",
          "name": "stdout",
          "text": [
            "                   all       2399       2399      0.648      0.389      0.414      0.393\n"
          ]
        },
        {
          "output_type": "stream",
          "name": "stderr",
          "text": [
            "\n"
          ]
        },
        {
          "output_type": "stream",
          "name": "stdout",
          "text": [
            "\n",
            "50 epochs completed in 3.933 hours.\n",
            "Optimizer stripped from runs/detect/train/weights/last.pt, 6.2MB\n",
            "Optimizer stripped from runs/detect/train/weights/best.pt, 6.2MB\n",
            "\n",
            "Validating runs/detect/train/weights/best.pt...\n",
            "Ultralytics YOLOv8.0.228 🚀 Python-3.10.12 torch-2.1.0+cu121 CUDA:0 (Tesla T4, 15102MiB)\n",
            "Model summary (fused): 168 layers, 3006038 parameters, 0 gradients, 8.1 GFLOPs\n"
          ]
        },
        {
          "output_type": "stream",
          "name": "stderr",
          "text": [
            "                 Class     Images  Instances      Box(P          R      mAP50  mAP50-95): 100%|██████████| 75/75 [00:25<00:00,  2.90it/s]\n"
          ]
        },
        {
          "output_type": "stream",
          "name": "stdout",
          "text": [
            "                   all       2399       2399      0.691      0.391      0.414      0.393\n",
            "            No disease       2399       1201      0.383     0.0167      0.035    0.00954\n",
            "     nuclear hardening       2399       1198      0.998      0.765      0.792      0.776\n",
            "Speed: 0.1ms preprocess, 1.5ms inference, 0.0ms loss, 1.8ms postprocess per image\n",
            "Results saved to \u001b[1mruns/detect/train\u001b[0m\n"
          ]
        }
      ]
    },
    {
      "cell_type": "code",
      "source": [],
      "metadata": {
        "id": "OqpsW5vExqlC"
      },
      "execution_count": null,
      "outputs": []
    }
  ]
}